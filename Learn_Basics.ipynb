{
 "cells": [
  {
   "cell_type": "code",
   "execution_count": 2,
   "id": "90fe1b33",
   "metadata": {},
   "outputs": [
    {
     "name": "stdout",
     "output_type": "stream",
     "text": [
      "hello world\n",
      "   /|\n",
      "  / |\n",
      " /  |\n",
      "/___|\n"
     ]
    }
   ],
   "source": [
    "print(\"hello world\")\n",
    "\n",
    "print(\"   /|\")\n",
    "print(\"  / |\")\n",
    "print(\" /  |\")\n",
    "print(\"/___|\")"
   ]
  },
  {
   "cell_type": "code",
   "execution_count": 3,
   "id": "9ef84198",
   "metadata": {},
   "outputs": [
    {
     "name": "stdout",
     "output_type": "stream",
     "text": [
      "There once was a man named John,\n",
      "he was 35 years old.\n",
      "He really liked the name Mike,\n"
     ]
    }
   ],
   "source": [
    "#Data Variables\n",
    "\n",
    "character_name = \"John\"\n",
    "character_age = \"35\"\n",
    "is_male = True\n",
    "\n",
    "print(\"There once was a man named \" + character_name + \",\")\n",
    "print(\"he was \" + character_age + \" years old.\")\n",
    "\n",
    "character_name = \"Mike\"\n",
    "print(\"He really liked the name \" + character_name + \",\")\n",
    " "
   ]
  }
 ],
 "metadata": {
  "kernelspec": {
   "display_name": "Python 3",
   "language": "python",
   "name": "python3"
  },
  "language_info": {
   "codemirror_mode": {
    "name": "ipython",
    "version": 3
   },
   "file_extension": ".py",
   "mimetype": "text/x-python",
   "name": "python",
   "nbconvert_exporter": "python",
   "pygments_lexer": "ipython3",
   "version": "3.13.7"
  }
 },
 "nbformat": 4,
 "nbformat_minor": 5
}
