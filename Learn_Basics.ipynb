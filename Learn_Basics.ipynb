{
 "cells": [
  {
   "cell_type": "code",
   "execution_count": 2,
   "id": "90fe1b33",
   "metadata": {},
   "outputs": [
    {
     "name": "stdout",
     "output_type": "stream",
     "text": [
      "hello world\n",
      "   /|\n",
      "  / |\n",
      " /  |\n",
      "/___|\n"
     ]
    }
   ],
   "source": [
    "print(\"hello world\")\n",
    "\n",
    "print(\"   /|\")\n",
    "print(\"  / |\")\n",
    "print(\" /  |\")\n",
    "print(\"/___|\")"
   ]
  },
  {
   "cell_type": "code",
   "execution_count": 3,
   "id": "9ef84198",
   "metadata": {},
   "outputs": [
    {
     "name": "stdout",
     "output_type": "stream",
     "text": [
      "There once was a man named John,\n",
      "he was 35 years old.\n",
      "He really liked the name Mike,\n"
     ]
    }
   ],
   "source": [
    "#Data Variables\n",
    "\n",
    "character_name = \"John\"\n",
    "character_age = \"35\"\n",
    "is_male = True\n",
    "\n",
    "print(\"There once was a man named \" + character_name + \",\")\n",
    "print(\"he was \" + character_age + \" years old.\")\n",
    "\n",
    "character_name = \"Mike\"\n",
    "print(\"He really liked the name \" + character_name + \",\")\n",
    " "
   ]
  },
  {
   "cell_type": "code",
   "execution_count": 13,
   "id": "7533ec76",
   "metadata": {},
   "outputs": [
    {
     "name": "stdout",
     "output_type": "stream",
     "text": [
      "Ravjot Is \n",
      " Dumb\n",
      "Ravjot Is \" Dumb \"\n",
      "Ravjot Is Dumb\n",
      "Ravjot Is Dumb and Stupid\n",
      "ravjot is dumb\n",
      "RAVJOT IS DUMB\n",
      "False\n",
      "True\n",
      "14\n",
      "t\n",
      "10\n",
      "Ravjot Is Gadha\n"
     ]
    }
   ],
   "source": [
    "#Strings\n",
    "print(\"Ravjot Is \\n Dumb\")\n",
    "print(\"Ravjot Is \\\" Dumb \\\"\")\n",
    "\n",
    "#creating a variable of string\n",
    "phrase = \"Ravjot Is Dumb\"\n",
    "print(phrase)\n",
    "\n",
    "#concatenation\n",
    "print(phrase + \" and Stupid\")\n",
    "\n",
    "#coool functions\n",
    "print(phrase.lower())\n",
    "print(phrase.upper())\n",
    "print(phrase.isupper())\n",
    "print(phrase.upper().isupper())\n",
    "\n",
    "#Length and accessing characters in string\n",
    "print(len(phrase))\n",
    "print(phrase[5]) #accessing characters\n",
    "\n",
    "print(phrase.index(\"Dum\"))\n",
    "\n",
    "#replacing the string\n",
    "print(phrase.replace(\"Dumb\", \"Gadha\"))\n"
   ]
  },
  {
   "cell_type": "code",
   "execution_count": 21,
   "id": "5347e9a6",
   "metadata": {},
   "outputs": [
    {
     "name": "stdout",
     "output_type": "stream",
     "text": [
      "17\n",
      "27\n",
      "1\n",
      "10 is shittty number\n",
      "-5\n",
      "5\n",
      "9\n",
      "6\n",
      "4\n",
      "4\n"
     ]
    }
   ],
   "source": [
    "#working with numbers\n",
    "print(3*4+5)\n",
    "\n",
    "#order of calculation changed with parenthesis\n",
    "print(3*(4+5))\n",
    "\n",
    "print(10%3) #modulo operator gives remainder\n",
    "\n",
    "number = 10\n",
    "print(str(number) + \" is shittty number\") #typecasting number to string\n",
    "\n",
    "number = -5\n",
    "print(number)\n",
    "print(abs(number)) #absolute value\n",
    "\n",
    "print(pow(3,2)) #power function 3^2\n",
    "\n",
    "print(max(4,6)) #maximum value\n",
    "print(min(4,6)) #minimum value\n",
    "\n",
    "print(round(3.7)) #rounding off the value"
   ]
  },
  {
   "cell_type": "code",
   "execution_count": null,
   "id": "7acb2450",
   "metadata": {},
   "outputs": [
    {
     "name": "stdout",
     "output_type": "stream",
     "text": [
      "Hello Rav\n",
      " you are 23\n"
     ]
    }
   ],
   "source": [
    "#get input from user\n",
    "name = input(\"Enter your name: \")\n",
    "age = input(\"Enter your age: \")\n",
    "\n",
    "#user input will be string by default\n",
    "\n",
    "print(\"Hello \" + name + \"\\n you are \" + age)\n"
   ]
  },
  {
   "cell_type": "code",
   "execution_count": 2,
   "id": "5bcefb19",
   "metadata": {},
   "outputs": [
    {
     "name": "stdout",
     "output_type": "stream",
     "text": [
      "addition of 2.3 and 3.3 is 5.6\n"
     ]
    }
   ],
   "source": [
    "#calculator\n",
    "number1 = input(\"enter the number:\")\n",
    "number2 = input(\"enter another number:\")\n",
    "\n",
    "result = float(number1) + float(number2)\n",
    "\n",
    "print(\"addition of \"+number1+\" and \"+number2+\" is \"+str(result))"
   ]
  }
 ],
 "metadata": {
  "kernelspec": {
   "display_name": "Python 3",
   "language": "python",
   "name": "python3"
  },
  "language_info": {
   "codemirror_mode": {
    "name": "ipython",
    "version": 3
   },
   "file_extension": ".py",
   "mimetype": "text/x-python",
   "name": "python",
   "nbconvert_exporter": "python",
   "pygments_lexer": "ipython3",
   "version": "3.13.7"
  }
 },
 "nbformat": 4,
 "nbformat_minor": 5
}
