{
 "cells": [
  {
   "cell_type": "code",
   "execution_count": 2,
   "id": "90fe1b33",
   "metadata": {},
   "outputs": [
    {
     "name": "stdout",
     "output_type": "stream",
     "text": [
      "hello world\n",
      "   /|\n",
      "  / |\n",
      " /  |\n",
      "/___|\n"
     ]
    }
   ],
   "source": [
    "print(\"hello world\")\n",
    "\n",
    "print(\"   /|\")\n",
    "print(\"  / |\")\n",
    "print(\" /  |\")\n",
    "print(\"/___|\")"
   ]
  },
  {
   "cell_type": "code",
   "execution_count": 3,
   "id": "9ef84198",
   "metadata": {},
   "outputs": [
    {
     "name": "stdout",
     "output_type": "stream",
     "text": [
      "There once was a man named John,\n",
      "he was 35 years old.\n",
      "He really liked the name Mike,\n"
     ]
    }
   ],
   "source": [
    "#Data Variables\n",
    "\n",
    "character_name = \"John\"\n",
    "character_age = \"35\"\n",
    "is_male = True\n",
    "\n",
    "print(\"There once was a man named \" + character_name + \",\")\n",
    "print(\"he was \" + character_age + \" years old.\")\n",
    "\n",
    "character_name = \"Mike\"\n",
    "print(\"He really liked the name \" + character_name + \",\")\n",
    " "
   ]
  },
  {
   "cell_type": "code",
   "execution_count": 13,
   "id": "7533ec76",
   "metadata": {},
   "outputs": [
    {
     "name": "stdout",
     "output_type": "stream",
     "text": [
      "Ravjot Is \n",
      " Dumb\n",
      "Ravjot Is \" Dumb \"\n",
      "Ravjot Is Dumb\n",
      "Ravjot Is Dumb and Stupid\n",
      "ravjot is dumb\n",
      "RAVJOT IS DUMB\n",
      "False\n",
      "True\n",
      "14\n",
      "t\n",
      "10\n",
      "Ravjot Is Gadha\n"
     ]
    }
   ],
   "source": [
    "#Strings\n",
    "print(\"Ravjot Is \\n Dumb\")\n",
    "print(\"Ravjot Is \\\" Dumb \\\"\")\n",
    "\n",
    "#creating a variable of string\n",
    "phrase = \"Ravjot Is Dumb\"\n",
    "print(phrase)\n",
    "\n",
    "#concatenation\n",
    "print(phrase + \" and Stupid\")\n",
    "\n",
    "#coool functions\n",
    "print(phrase.lower())\n",
    "print(phrase.upper())\n",
    "print(phrase.isupper())\n",
    "print(phrase.upper().isupper())\n",
    "\n",
    "#Length and accessing characters in string\n",
    "print(len(phrase))\n",
    "print(phrase[5]) #accessing characters\n",
    "\n",
    "print(phrase.index(\"Dum\"))\n",
    "\n",
    "#replacing the string\n",
    "print(phrase.replace(\"Dumb\", \"Gadha\"))\n"
   ]
  },
  {
   "cell_type": "code",
   "execution_count": 21,
   "id": "5347e9a6",
   "metadata": {},
   "outputs": [
    {
     "name": "stdout",
     "output_type": "stream",
     "text": [
      "17\n",
      "27\n",
      "1\n",
      "10 is shittty number\n",
      "-5\n",
      "5\n",
      "9\n",
      "6\n",
      "4\n",
      "4\n"
     ]
    }
   ],
   "source": [
    "#working with numbers\n",
    "print(3*4+5)\n",
    "\n",
    "#order of calculation changed with parenthesis\n",
    "print(3*(4+5))\n",
    "\n",
    "print(10%3) #modulo operator gives remainder\n",
    "\n",
    "number = 10\n",
    "print(str(number) + \" is shittty number\") #typecasting number to string\n",
    "\n",
    "number = -5\n",
    "print(number)\n",
    "print(abs(number)) #absolute value\n",
    "\n",
    "print(pow(3,2)) #power function 3^2\n",
    "\n",
    "print(max(4,6)) #maximum value\n",
    "print(min(4,6)) #minimum value\n",
    "\n",
    "print(round(3.7)) #rounding off the value"
   ]
  },
  {
   "cell_type": "code",
   "execution_count": null,
   "id": "7acb2450",
   "metadata": {},
   "outputs": [
    {
     "name": "stdout",
     "output_type": "stream",
     "text": [
      "Hello Rav\n",
      " you are 23\n"
     ]
    }
   ],
   "source": [
    "#get input from user\n",
    "name = input(\"Enter your name: \")\n",
    "age = input(\"Enter your age: \")\n",
    "\n",
    "#user input will be string by default\n",
    "\n",
    "print(\"Hello \" + name + \"\\n you are \" + age)\n"
   ]
  },
  {
   "cell_type": "code",
   "execution_count": 2,
   "id": "5bcefb19",
   "metadata": {},
   "outputs": [
    {
     "name": "stdout",
     "output_type": "stream",
     "text": [
      "addition of 2.3 and 3.3 is 5.6\n"
     ]
    }
   ],
   "source": [
    "#calculator\n",
    "number1 = input(\"enter the number:\")\n",
    "number2 = input(\"enter another number:\")\n",
    "\n",
    "result = float(number1) + float(number2)\n",
    "\n",
    "print(\"addition of \"+number1+\" and \"+number2+\" is \"+str(result))"
   ]
  },
  {
   "cell_type": "code",
   "execution_count": 13,
   "id": "685b8d1b",
   "metadata": {},
   "outputs": [
    {
     "name": "stdout",
     "output_type": "stream",
     "text": [
      "friends contains ['Ravjot', 'Gurpreet', 'Harman', 'Simran']\n",
      "Gurpreet\n",
      "Simran\n",
      "Harman\n",
      "['Gurpreet', 'Harman', 'Simran']\n",
      "['Gurpreet', 'Harman']\n",
      "Updated Friends (Gurpreet is dumb and not friend anymore) ['Ravjot', 'Ravneet', 'Harman', 'Simran']\n"
     ]
    }
   ],
   "source": [
    "#list\n",
    "friends = [\"Ravjot\", \"Gurpreet\", \"Harman\", \"Simran\"]\n",
    "print(\"friends contains\", friends)\n",
    "\n",
    "print(friends[1]) #accessing element from list\n",
    "\n",
    "print(friends[-1]) #accessing last element from list\n",
    "\n",
    "print(friends[-2])\n",
    "\n",
    "\n",
    "print(friends[1:]) #slicing the list from index 1 to end\n",
    "print(friends[1:3]) #slicing the list from index 1 to 3 but not including 3\n",
    "\n",
    "#we can modify the list\n",
    "friends[1] = \"Ravneet\"\n",
    "print(\"Updated Friends (Gurpreet is dumb and not friend anymore)\" , friends)\n"
   ]
  },
  {
   "cell_type": "code",
   "execution_count": 32,
   "id": "b8ba2764",
   "metadata": {},
   "outputs": [
    {
     "name": "stdout",
     "output_type": "stream",
     "text": [
      "['Ravjot', 'Gurpreet', 'Harman', 'Simran']\n",
      "number_list [1, 2, 3, 7, 8, 10]\n",
      "\n",
      "\n",
      "after extending friends with number_list: ['Ravjot', 'Gurpreet', 'Harman', 'Simran', 1, 2, 3, 7, 8, 10]\n",
      "after appending Jaspreet to friends: ['Ravjot', 'Gurpreet', 'Harman', 'Simran', 'Jaspreet']\n",
      "after inserting Rajveer at index 2 to friends: ['Ravjot', 'Gurpreet', 'Ravjveer', 'Harman', 'Simran', 'Jaspreet']\n",
      "after removing Harman from friends: ['Ravjot', 'Gurpreet', 'Ravjveer', 'Simran', 'Jaspreet']\n",
      "after clearing the friends list: []\n",
      "after popping last element from number_list: [1, 2, 3, 7, 8]\n",
      "index of element 7 in number_list is: 3\n",
      "after appending 7 and 3 to number_list: [1, 2, 3, 7, 8, 7, 3]\n",
      "count of 3 in number_list is: 2\n",
      "count of 7 in number_list is: 2\n",
      "after sorting number_list: [1, 2, 3, 3, 7, 7, 8]\n",
      "after sorting friends list: ['Gurpreet', 'Harman', 'Ravjot', 'Simran']\n",
      "friends2 list which is copy of friends list: ['Ravjot', 'Gurpreet', 'Harman', 'Simran']\n"
     ]
    }
   ],
   "source": [
    "#List functions\n",
    "number_list = [1,2,3,7,8,10]\n",
    "friends = [\"Ravjot\", \"Gurpreet\", \"Harman\", \"Simran\"]\n",
    "\n",
    "print(friends)\n",
    "print(\"number_list\", number_list)\n",
    "print(\"\\n\")\n",
    "\n",
    "#extend function\n",
    "friends.extend(number_list)\n",
    "print(\"after extending friends with number_list:\", friends)\n",
    "\n",
    "friends = [\"Ravjot\", \"Gurpreet\", \"Harman\", \"Simran\"]\n",
    "\n",
    "#append function\n",
    "friends.append(\"Jaspreet\")\n",
    "print(\"after appending Jaspreet to friends:\", friends)\n",
    "\n",
    "#insert function\n",
    "friends.insert(2, \"Ravjveer\")\n",
    "print(\"after inserting Rajveer at index 2 to friends:\", friends)\n",
    "\n",
    "#remove function\n",
    "friends.remove(\"Harman\")\n",
    "print(\"after removing Harman from friends:\", friends)\n",
    "\n",
    "#clear function\n",
    "friends.clear()\n",
    "print(\"after clearing the friends list:\", friends)\n",
    "\n",
    "#pop function\n",
    "number_list.pop() #removes last element from list \n",
    "print(\"after popping last element from number_list:\", number_list)\n",
    "\n",
    "#index function\n",
    "print(\"index of element 7 in number_list is:\" , number_list.index(7)) #gives index of element 7\n",
    "\n",
    "number_list.append(7)\n",
    "number_list.append(3)\n",
    "\n",
    "print(\"after appending 7 and 3 to number_list:\", number_list)\n",
    "\n",
    "#count function\n",
    "print(\"count of 3 in number_list is:\", number_list.count(3)) #gives count of element 3\n",
    "print(\"count of 7 in number_list is:\", number_list.count(7)) #gives count of element 7\n",
    "\n",
    "friends = [\"Ravjot\", \"Gurpreet\", \"Harman\", \"Simran\"]\n",
    "#sort function\n",
    "number_list.sort()\n",
    "friends.sort()  #sorts the list in alphabetical order\n",
    "print(\"after sorting number_list:\", number_list)\n",
    "print(\"after sorting friends list:\", friends) #friends list is empty so no change\n",
    "\n",
    "#copy function\n",
    "friends = [\"Ravjot\", \"Gurpreet\", \"Harman\", \"Simran\"]\n",
    "friends2 = friends.copy()\n",
    "print(\"friends2 list which is copy of friends list:\", friends2)"
   ]
  },
  {
   "cell_type": "code",
   "execution_count": null,
   "id": "e07a0221",
   "metadata": {},
   "outputs": [
    {
     "name": "stdout",
     "output_type": "stream",
     "text": [
      "(4, 5)\n",
      "4\n",
      "5\n",
      "\n",
      "\n",
      "[(4, 5), (6, 7), (80, 34)]\n",
      "after modifying coordinates2 list: [(1, 2), (6, 7), (80, 34)]\n"
     ]
    }
   ],
   "source": [
    "#tuples\n",
    "# Is like list but immutable (cannot be changed)\n",
    "#tuples are faster than list\n",
    "coordinates = (4,5)\n",
    "print(coordinates)\n",
    "print(coordinates[0]) #accessing element from tuple\n",
    "print(coordinates[1])\n",
    "\n",
    "print(\"\\n\")\n",
    "\n",
    "#we cannot modify the tuple\n",
    "#coordinates[0] = 1 #gives error\n",
    "\n",
    "#but we can modify the list of tuples\n",
    "coordinates2 = [(4,5), (6,7), (80,34)] #list of tuples\n",
    "print(coordinates2)\n",
    "\n",
    "coordinates2[0] = (1,2) #modifying the list element\n",
    "print(\"after modifying coordinates2 list:\", coordinates2)"
   ]
  },
  {
   "cell_type": "code",
   "execution_count": null,
   "id": "31074385",
   "metadata": {},
   "outputs": [
    {
     "name": "stdout",
     "output_type": "stream",
     "text": [
      "RavJot is dumb\n",
      "RavJot need to get job in this AI market\n",
      "Or will get poor 99%\n",
      "You are dumb to read this you ,  lokesh\n",
      "RavJot is dumb\n",
      "RavJot need to get job in this AI market\n",
      "Or will get poor 100%\n",
      "You are dumb to read this you ,  Jot\n",
      "\n",
      "\n",
      "Cube of 4 is: 64\n"
     ]
    }
   ],
   "source": [
    "#functions\n",
    "def RavJot(count , name):\n",
    "    print(\"RavJot is dumb\")\n",
    "    print(\"RavJot need to get job in this AI market\")\n",
    "    print(\"Or will get poor \" +str(count)+ \"%\")\n",
    "    print(\"You are dumb to read this you , \" , name)\n",
    "    \n",
    "RavJot(99 , \"lokesh\")\n",
    "RavJot(100 , \"Jot\")\n",
    "\n",
    "print(\"\\n\")\n",
    "\n",
    "#returning value from function \n",
    "#this will make return something from function and store it in variable\n",
    "def cube(num):\n",
    "    return num*num*num\n",
    "result = cube(4)\n",
    "print(\"Cube of 4 is:\", result)"
   ]
  },
  {
   "cell_type": "code",
   "execution_count": null,
   "id": "3ca02897",
   "metadata": {},
   "outputs": [
    {
     "name": "stdout",
     "output_type": "stream",
     "text": [
      "you are a male\n",
      "you are male or tall or both\n",
      "you are a male but short\n"
     ]
    }
   ],
   "source": [
    "#If statement\n",
    "\n",
    "is_male = True\n",
    "is_tall = False\n",
    "\n",
    "if is_male:\n",
    "    print(\"you are a male\")\n",
    "else:\n",
    "    print(\"You are a female \")\n",
    "    \n",
    "if is_male or is_tall:\n",
    "    print(\"you are male or tall or both\")\n",
    "else:\n",
    "    print(\"you are neither male nor tall\")\n",
    "\n",
    "if is_male and is_tall:\n",
    "    print(\"you are a tall male\")\n",
    "elif is_male and not(is_tall):\n",
    "    print(\"you are a short male\")\n",
    "elif not(is_male) and is_tall:\n",
    "    print(\"you are Tall girl\")\n",
    "else:\n",
    "    print(\"you are either not male nor tall or both\")\n",
    "    \n",
    "    "
   ]
  },
  {
   "cell_type": "code",
   "execution_count": 9,
   "id": "9d6db86d",
   "metadata": {},
   "outputs": [
    {
     "name": "stdout",
     "output_type": "stream",
     "text": [
      "8\n"
     ]
    }
   ],
   "source": [
    "\n",
    "def max(num_1, num_2, num_3):\n",
    "    \n",
    "    if num_1 >= num_2 and num_1 >= num_3:\n",
    "        return num_1\n",
    "    elif num_2 >= num_1 and num_2 >= num_3:\n",
    "        return num_2\n",
    "    else:\n",
    "        return num_3\n",
    "\n",
    "print(max(4, 2, 8))"
   ]
  },
  {
   "cell_type": "code",
   "execution_count": 14,
   "id": "b611161c",
   "metadata": {},
   "outputs": [
    {
     "name": "stdout",
     "output_type": "stream",
     "text": [
      "January\n",
      "December\n",
      "Not a valid key\n"
     ]
    }
   ],
   "source": [
    "#Dicrtionaries \n",
    "#It is used to store key value pairs\n",
    "#unordered, mutable and indexed\n",
    "\n",
    "monthConversions = {\n",
    "    'Jan' : \"January\",\n",
    "    'Feb' : \"February\",\n",
    "    'Mar' : \"March\",\n",
    "    'Apr' : \"April\",\n",
    "    'May' : \"May\",\n",
    "    'Jun' : \"June\",\n",
    "    'Jul' : \"July\",     \n",
    "    'Aug' : \"August\",\n",
    "    'Sep' : \"September\",\n",
    "    'Oct' : \"October\",\n",
    "    'Nov' : \"November\",\n",
    "    'Dec' : \"December\"\n",
    "}\n",
    "print(monthConversions['Jan'])\n",
    "print(monthConversions.get('Dec'))\n",
    "print(monthConversions.get('rav', \"Not a valid key\")) #if key not found then return default value"
   ]
  },
  {
   "cell_type": "code",
   "execution_count": 17,
   "id": "25427958",
   "metadata": {},
   "outputs": [
    {
     "name": "stdout",
     "output_type": "stream",
     "text": [
      "1\n",
      "2\n",
      "3\n",
      "4\n",
      "5\n",
      "6\n",
      "7\n",
      "8\n",
      "9\n",
      "10\n",
      "done with loop\n"
     ]
    }
   ],
   "source": [
    "#while loop\n",
    "\n",
    "i=1\n",
    "while i <= 10:\n",
    "    print(i)\n",
    "    i += 1\n",
    "print(\"done with loop\")"
   ]
  },
  {
   "cell_type": "code",
   "execution_count": 4,
   "id": "f4e5bb93",
   "metadata": {},
   "outputs": [
    {
     "name": "stdout",
     "output_type": "stream",
     "text": [
      "it is the King of the jungle\n",
      "You have  3  guesses left\n",
      "it is the King of the jungle\n",
      "You have  2  guesses left\n",
      "You win!\n"
     ]
    }
   ],
   "source": [
    "secret_word = \"Lion\"\n",
    "guess = \"\"\n",
    "guess_count = 0\n",
    "guess_limit = 3\n",
    "out_of_guesses = False\n",
    "while guess != secret_word and not(out_of_guesses):\n",
    "    print(\"it is the King of the jungle\")\n",
    "    if guess_count < guess_limit:\n",
    "       print(\"You have \", str(guess_limit - guess_count), \" guesses left\")\n",
    "       guess = input(\"Enter guess: \")\n",
    "       guess_count += 1\n",
    "    else:\n",
    "        out_of_guesses = True\n",
    "        \n",
    "if out_of_guesses:\n",
    "    print(\"You lose! , Out of guesses\")\n",
    "else:\n",
    "    print(\"You win!\")\n",
    "    \n",
    "        "
   ]
  }
 ],
 "metadata": {
  "kernelspec": {
   "display_name": "Python 3",
   "language": "python",
   "name": "python3"
  },
  "language_info": {
   "codemirror_mode": {
    "name": "ipython",
    "version": 3
   },
   "file_extension": ".py",
   "mimetype": "text/x-python",
   "name": "python",
   "nbconvert_exporter": "python",
   "pygments_lexer": "ipython3",
   "version": "3.13.7"
  }
 },
 "nbformat": 4,
 "nbformat_minor": 5
}
