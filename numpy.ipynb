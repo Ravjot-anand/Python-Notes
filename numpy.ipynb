{
 "cells": [
  {
   "cell_type": "code",
   "execution_count": 4,
   "id": "6e756fdc",
   "metadata": {},
   "outputs": [
    {
     "name": "stdout",
     "output_type": "stream",
     "text": [
      "[1 2 3 4 5 6]\n",
      "[1 4 5 2 7 8]\n",
      "2d array example [[1 2 3]\n",
      " [7 8 9]]\n",
      "3d array example [[[1 2 3]\n",
      "  [4 5 6]]\n",
      "\n",
      " [[1 2 3]\n",
      "  [4 5 6]]]\n",
      "1\n",
      "2\n",
      "3\n",
      "5\n",
      "7\n"
     ]
    }
   ],
   "source": [
    "#numpy is used for work with arrays arrays in nympy are ndarray\n",
    "import numpy as np\n",
    "arr = np.array([1,2,3,4,5,6])\n",
    "print(arr) \n",
    "\n",
    "#to create nd array we can pass in a list, tuple or any array-like object into the array() method\n",
    "arr1 = np.array((1,4,5,2,7,8))\n",
    "print(arr1)\n",
    "\n",
    "#2d and 3d array are\n",
    "\n",
    "arr2 = np.array([[1,2,3],[7,8,9]])\n",
    "print('2d array example', arr2)\n",
    "arr3 = np.array([[[1, 2, 3], [4, 5, 6]], [[1, 2, 3], [4, 5, 6]]])\n",
    "print('3d array example', arr3)\n",
    "\n",
    "print(arr.ndim)\n",
    "print(arr2.ndim)\n",
    "print(arr3.ndim)\n",
    "\n",
    "#while creating an array you can define its dim\n",
    "array = np.array([1,2,3,4,5],ndmin=5)\n",
    "print(array.ndim)\n",
    "\n",
    "#we can acess the array elements and do calculations on them \n",
    "print(arr[2]+arr[3])"
   ]
  },
  {
   "cell_type": "code",
   "execution_count": 5,
   "id": "bece002e",
   "metadata": {},
   "outputs": [
    {
     "name": "stdout",
     "output_type": "stream",
     "text": [
      "Last element from 2nd dim:  10\n"
     ]
    }
   ],
   "source": [
    "arr = np.array([[1,2,3,4,5], [6,7,8,9,10]])\n",
    "\n",
    "print('Last element from 2nd dim: ', arr[1, -1])"
   ]
  },
  {
   "cell_type": "code",
   "execution_count": 10,
   "id": "6466cac4",
   "metadata": {},
   "outputs": [
    {
     "name": "stdout",
     "output_type": "stream",
     "text": [
      "[2 3 4 5]\n",
      "[5 6 7]\n",
      "[1 2 3 4]\n",
      "[5 6]\n",
      "[2 4]\n"
     ]
    }
   ],
   "source": [
    "arr = np.array([1, 2, 3, 4, 5, 6, 7])\n",
    "\n",
    "print(arr[1:5])\n",
    "print(arr[4:])\n",
    "print(arr[:4])\n",
    "print(arr[-3:-1])\n",
    "print(arr[1:5:2])\n",
    "\n",
    "\n",
    "\n",
    "\n"
   ]
  }
 ],
 "metadata": {
  "kernelspec": {
   "display_name": "Python 3",
   "language": "python",
   "name": "python3"
  },
  "language_info": {
   "codemirror_mode": {
    "name": "ipython",
    "version": 3
   },
   "file_extension": ".py",
   "mimetype": "text/x-python",
   "name": "python",
   "nbconvert_exporter": "python",
   "pygments_lexer": "ipython3",
   "version": "3.13.7"
  }
 },
 "nbformat": 4,
 "nbformat_minor": 5
}
